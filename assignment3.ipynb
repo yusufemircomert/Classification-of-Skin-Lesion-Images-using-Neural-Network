{
 "cells": [
  {
   "cell_type": "markdown",
   "metadata": {},
   "source": [
    "\n",
    "<div style=\"font-size: 40px; color: white;\">\n",
    "    <ul>\n",
    "        PART I: Theory Questions \n",
    "</div>"
   ]
  },
  {
   "cell_type": "markdown",
   "metadata": {},
   "source": [
    "<div style=\"font-size: 20px; color: white;\">\n",
    "    <ul>\n",
    "        Question 1<br><br>\n",
    "        What are activation functions, and why are they important in neural networks?\n",
    "</div>\n"
   ]
  },
  {
   "cell_type": "markdown",
   "metadata": {},
   "source": [
    "An activation function is a mathematical function applied to the output of a neuron. It introduces non-linearity into the model, allowing the network to learn and represent complex patterns in the data. \n",
    "\n",
    "WHY IMPORTANT?\n",
    "\n",
    "**Without this non-linearity feature, a neural network would behave like a linear regression model, no matter how many layers it has.**\n",
    "\n",
    "Neural networks consist of neurons that operate using weights, biases, and activation functions.\n",
    "In the learning process, these weights and biases are updated based on the error produced at the output—a process known as backpropagation. Activation functions enable backpropagation by providing gradients that are essential for updating the weights and biases."
   ]
  },
  {
   "cell_type": "markdown",
   "metadata": {},
   "source": [
    "<div style=\"font-size: 20px; color: white;\">\n",
    "    <ul>\n",
    "        Question 2<br><br>\n",
    "        Consider the convolutional neural network defined by the layers below. Fill in the shape\n",
    "of the output volume and the number of parameters at each layer.<br>\n",
    "• CONV5-8: Convolutional layer with 8 filters of 5 × 5, padding is 0, stride is 1.<br>\n",
    "• POOL-2: 2 × 2 max-pooling layer, stride is 2.<br>\n",
    "• CONV3-16: Convolutional layer with 16 filters of 3 × 3, padding is 0, stride is 1.<br>\n",
    "• POOL-3: 3 × 3 max-pooling layer, stride is 2.<br>\n",
    "• FC-30: Fully connected layer with 30 neurons.<br>\n",
    "• FC-5: Fully connected layer with 5 neurons.<br>\n",
    "• Input: 64 × 64 × 3.\n",
    "\n",
    "</div>\n"
   ]
  },
  {
   "cell_type": "markdown",
   "metadata": {},
   "source": [
    "Solution:\n",
    "\n",
    "Formula for output size: [(W−K+2P)/S]+1\n",
    "\n",
    "Formula for parameter calculation: Parameters=(K×K×Input depth+1)×Number of filters\n",
    "\n",
    "\n",
    "Input size: &nbsp;&nbsp;&nbsp;&nbsp;&nbsp;&nbsp;&nbsp;&nbsp;&nbsp;&nbsp;&nbsp;(64,64,3)&nbsp;&nbsp;&nbsp;&nbsp;&nbsp; Number Of Parameters: 0<br>\n",
    "after CONV5-8: &nbsp;&nbsp;&nbsp;(60,60,8)&nbsp;&nbsp;&nbsp;&nbsp;&nbsp;&nbsp;&nbsp;&nbsp;&nbsp;&nbsp;&nbsp;&nbsp;&nbsp;&nbsp;&nbsp;&nbsp;&nbsp;&nbsp;&nbsp;&nbsp;&nbsp;608<br>\n",
    "after POOL-2:&nbsp;&nbsp;&nbsp;&nbsp;&nbsp;&nbsp;(30,30,8)&nbsp;&nbsp;&nbsp;&nbsp;&nbsp;&nbsp;&nbsp;&nbsp;&nbsp;&nbsp;&nbsp;&nbsp;&nbsp;&nbsp;&nbsp;&nbsp;&nbsp;&nbsp;&nbsp;&nbsp;&nbsp;&nbsp;&nbsp;0<br>\n",
    "after CONV3-16: (28,28,16)&nbsp;&nbsp;&nbsp;&nbsp;&nbsp;&nbsp;&nbsp;&nbsp;&nbsp;&nbsp;&nbsp;&nbsp;&nbsp;&nbsp;&nbsp;&nbsp;&nbsp;&nbsp;1168<br>\n",
    "after POOL-3: &nbsp;&nbsp;&nbsp;&nbsp;&nbsp;(14,14,16)&nbsp;&nbsp;&nbsp;&nbsp;&nbsp;&nbsp;&nbsp;&nbsp;&nbsp;&nbsp;&nbsp;&nbsp;&nbsp;&nbsp;&nbsp;&nbsp;&nbsp;&nbsp;&nbsp;&nbsp;&nbsp;0<br>\n",
    "after FC-30:&nbsp;&nbsp;&nbsp;&nbsp;&nbsp;&nbsp;&nbsp;&nbsp;&nbsp;&nbsp;&nbsp;&nbsp;&nbsp;&nbsp;(30)&nbsp;&nbsp;&nbsp;&nbsp;&nbsp;&nbsp;&nbsp;&nbsp;&nbsp;&nbsp;&nbsp;&nbsp;&nbsp;&nbsp;&nbsp;&nbsp;&nbsp;&nbsp;&nbsp;&nbsp;&nbsp;&nbsp;94,110<br>\n",
    "after FC-5: &nbsp;&nbsp;&nbsp;&nbsp;&nbsp;&nbsp;&nbsp;&nbsp;&nbsp;&nbsp;&nbsp;&nbsp;&nbsp;&nbsp;&nbsp;(5)&nbsp;&nbsp;&nbsp;&nbsp;&nbsp;&nbsp;&nbsp;&nbsp;&nbsp;&nbsp;&nbsp;&nbsp;&nbsp;&nbsp;&nbsp;&nbsp;&nbsp;&nbsp;&nbsp;&nbsp;&nbsp;&nbsp;&nbsp;&nbsp;&nbsp;&nbsp;155\n"
   ]
  },
  {
   "cell_type": "markdown",
   "metadata": {},
   "source": [
    "\n",
    "<div style=\"font-size: 40px; color: white;\">\n",
    "    <ul>\n",
    "        PART II: Classification of Skin Lesion Images using Neural Network \n",
    "</div>"
   ]
  },
  {
   "cell_type": "markdown",
   "metadata": {},
   "source": [
    "This project involves implementing and experimenting with both Multi-Layer Perceptron (MLP) and Convolutional Neural Network (CNN) models for a binary classification task. Below is a detailed explanation of each step and the corresponding implementation choices."
   ]
  },
  {
   "cell_type": "code",
   "execution_count": 1,
   "metadata": {},
   "outputs": [],
   "source": [
    "# Importing necessary libraries.\n",
    "import torch\n",
    "import torch.nn as nn\n",
    "import torch.optim as optim\n",
    "from torchvision import transforms, datasets\n",
    "from torch.utils.data import DataLoader\n",
    "import matplotlib.pyplot as plt\n",
    "import numpy as np\n",
    "from sklearn.metrics import accuracy_score, precision_score, recall_score, f1_score, confusion_matrix\n"
   ]
  },
  {
   "cell_type": "code",
   "execution_count": 43,
   "metadata": {},
   "outputs": [
    {
     "name": "stdout",
     "output_type": "stream",
     "text": [
      "2.5.1+cu118\n"
     ]
    }
   ],
   "source": [
    "print(torch.__version__)"
   ]
  },
  {
   "cell_type": "markdown",
   "metadata": {},
   "source": [
    "\n",
    "<div style=\"font-size: 20px; color: white;\">\n",
    "    <ul>\n",
    "        Checking for Cuda's availibility to run the program faster.<br>\n",
    "        Also printing the gpu's name for checking if the torch can see my gpu.\n",
    "</div>"
   ]
  },
  {
   "cell_type": "code",
   "execution_count": 44,
   "metadata": {},
   "outputs": [
    {
     "name": "stdout",
     "output_type": "stream",
     "text": [
      "True\n",
      "NVIDIA GeForce RTX 3050 Ti Laptop GPU\n"
     ]
    }
   ],
   "source": [
    "print(torch.cuda.is_available())  # It will be true if gpu is usable\n",
    "print(torch.cuda.get_device_name(0))"
   ]
  },
  {
   "cell_type": "code",
   "execution_count": 2,
   "metadata": {},
   "outputs": [],
   "source": [
    "device = torch.device(\"cuda\" if torch.cuda.is_available() else \"cpu\")"
   ]
  },
  {
   "cell_type": "markdown",
   "metadata": {},
   "source": [
    "## **Dataset Preparation**"
   ]
  },
  {
   "cell_type": "code",
   "execution_count": 46,
   "metadata": {},
   "outputs": [],
   "source": [
    "transform = transforms.Compose([\n",
    "    transforms.Resize((300, 300)),  # Reshaping as it asked\n",
    "    transforms.ToTensor(),  # Transform it to tensor format\n",
    "    transforms.Normalize((0.5,), (0.5,))  # Normalization\n",
    "])"
   ]
  },
  {
   "cell_type": "code",
   "execution_count": 47,
   "metadata": {},
   "outputs": [],
   "source": [
    "# Loading the data\n",
    "train_dataset = datasets.ImageFolder(root=\"311PA3_melanoma_dataset/train\", transform=transform)\n",
    "test_dataset = datasets.ImageFolder(root=\"311PA3_melanoma_dataset/test\", transform=transform)"
   ]
  },
  {
   "cell_type": "code",
   "execution_count": 48,
   "metadata": {},
   "outputs": [],
   "source": [
    "batch_sizes = [16, 32]  # Batch sizes to try.\n",
    "train_loader = {batch_size: DataLoader(train_dataset, batch_size=batch_size, shuffle=True) for batch_size in batch_sizes}\n",
    "test_loader = {batch_size: DataLoader(test_dataset, batch_size=batch_size, shuffle=False) for batch_size in batch_sizes}\n"
   ]
  },
  {
   "cell_type": "markdown",
   "metadata": {},
   "source": [
    "Checking the set sizes to see if they are succesfully loaded."
   ]
  },
  {
   "cell_type": "code",
   "execution_count": 49,
   "metadata": {},
   "outputs": [
    {
     "name": "stdout",
     "output_type": "stream",
     "text": [
      "Training set size: 7684\n",
      "Test set size: 1921\n",
      "Total set size: 9605\n"
     ]
    }
   ],
   "source": [
    "print(f\"Training set size: {len(train_dataset)}\")\n",
    "print(f\"Test set size: {len(test_dataset)}\")\n",
    "print(f\"Total set size: {len(test_dataset)+len(train_dataset)}\")"
   ]
  },
  {
   "cell_type": "code",
   "execution_count": 50,
   "metadata": {},
   "outputs": [
    {
     "name": "stdout",
     "output_type": "stream",
     "text": [
      "Label: 0\n",
      "Image shape: torch.Size([3, 300, 300])\n"
     ]
    }
   ],
   "source": [
    "# Getting the example image\n",
    "example_image, label = train_dataset[0]\n",
    "\n",
    "print(f\"Label: {label}\")\n",
    "print(f\"Image shape: {example_image.shape}\")"
   ]
  },
  {
   "cell_type": "markdown",
   "metadata": {},
   "source": [
    "Plotting the example image"
   ]
  },
  {
   "cell_type": "code",
   "execution_count": 51,
   "metadata": {},
   "outputs": [
    {
     "name": "stderr",
     "output_type": "stream",
     "text": [
      "Clipping input data to the valid range for imshow with RGB data ([0..1] for floats or [0..255] for integers).\n"
     ]
    },
    {
     "data": {
      "image/png": "[encoded data removed]",
      "text/plain": [
       "<Figure size 640x480 with 1 Axes>"
      ]
     },
     "metadata": {},
     "output_type": "display_data"
    }
   ],
   "source": [
    "plt.imshow(np.transpose(example_image.numpy(), (1, 2, 0)), cmap='gray')\n",
    "plt.title(f\"Label: {'Malignant' if label == 1 else 'Benign'}\")\n",
    "plt.axis('off')\n",
    "plt.show()"
   ]
  },
  {
   "cell_type": "markdown",
   "metadata": {},
   "source": [
    "## **Convolutional Neural Network(CNN) Implementation**"
   ]
  },
  {
   "cell_type": "markdown",
   "metadata": {},
   "source": [
    "### **Model Architecture:**\n",
    "- The CNN model consists of **2 convolutional layers**, followed by **max pooling**, and **2 fully connected layers**.\n",
    "- Each convolutional layer uses ReLU or Sigmoid activation functions, depending on the experiment."
   ]
  },
  {
   "cell_type": "markdown",
   "metadata": {},
   "source": [
    "### **Why This Architecture?**\n",
    "- Convolutional layers extract spatial features from the images.\n",
    "- Max pooling reduces the spatial dimensions, making the model computationally efficient.\n",
    "- Fully connected layers act as a classifier to output the probability of each class."
   ]
  },
  {
   "cell_type": "markdown",
   "metadata": {},
   "source": [
    "### **Experiments Conducted:**\n",
    "- A total of **8 experiments** were conducted with combinations of:\n",
    "  - Batch sizes (`16`, `32`)\n",
    "  - Learning rate (`0.005`, `0.02`)\n",
    "  - Activation function (`ReLU`, `Sigmoid`)\n"
   ]
  },
  {
   "cell_type": "markdown",
   "metadata": {},
   "source": [
    "### Convolutional Layers and Max Pooling\n",
    "\n",
    "- **Convolution Layer 1**:\n",
    "  Applies 16 filters of size **3x3** on the RGB input (3 channels). \n",
    "  The mathematical operation is:\n",
    "  $$\n",
    "  z_{ij} = \\sum_{c=1}^{C} \\sum_{k=1}^{K} \\sum_{l=1}^{K} x_{i+k, j+l, c} \\cdot w_{k, l, c} + b\n",
    "  $$\n",
    "  where $$x$$ is the input, $$w$$ is the filter, $$b$$ is the bias, $$C$$ is the number of input channels, and $$K$$ is the kernel size.<br><br>\n",
    "\n",
    "- **Convolution Layer 2**:\n",
    "  Applies 32 filters of size 3x3 to the output of Conv1.\n",
    "  Similar to Conv1, it captures more complex patterns and relationships from the feature maps.<br><br>\n",
    "\n",
    "- **Max Pooling**:\n",
    "  Reduces spatial dimensions by selecting the maximum value in each $$2 \\times 2$$ region.\n",
    "  This reduces computational complexity and helps extract dominant features from the feature map.\n",
    "  Output size formula for pooling:\n",
    "  $$\n",
    "  \\text{Output size} = \\left\\lfloor \\frac{\\text{Input size}}{\\text{stride}} \\right\\rfloor\n",
    "  $$\n",
    "  where stride is the step size of the pooling window.\n"
   ]
  },
  {
   "cell_type": "code",
   "execution_count": null,
   "metadata": {},
   "outputs": [],
   "source": [
    "# CNN class with 2 convolutional layers, max pooling, and 2 fully connected layers\n",
    "class CNN(nn.Module):\n",
    "    def __init__(self, activation_fn=nn.ReLU()):\n",
    "        super(CNN, self).__init__()\n",
    "        self.conv1 = nn.Conv2d(3, 16, kernel_size=3, padding=1)  # 3 channels -> 16 filters\n",
    "        self.conv2 = nn.Conv2d(16, 32, kernel_size=3, padding=1)  # 16 filters -> 32 filters\n",
    "        self.pool = nn.MaxPool2d(2, 2)\n",
    "        self.fc1 = nn.Linear(32 * 75 * 75, 512)  # FC layer \n",
    "        self.fc2 = nn.Linear(512, 1)  # Output 1 neuron (binary classification with sigmoid)\n",
    "        self.activation_fn = activation_fn\n",
    "        self.sigmoid = nn.Sigmoid()\n",
    "\n",
    "    def forward(self, x):\n",
    "        x = self.pool(self.activation_fn(self.conv1(x)))\n",
    "        x = self.pool(self.activation_fn(self.conv2(x)))\n",
    "        x = x.view(-1, 32 * 75 * 75)  # Flattening\n",
    "        x = self.activation_fn(self.fc1(x))\n",
    "        x = self.sigmoid(self.fc2(x))  # Output is a sigmoid function.\n",
    "        return x\n"
   ]
  },
  {
   "cell_type": "markdown",
   "metadata": {},
   "source": [
    "### Backpropagation and Gradient Descent\n",
    "\n",
    "- **Backpropagation**:\n",
    "  Computes gradients of the loss with respect to model parameters using the chain rule of derivatives:\n",
    "  $$\n",
    "  \\frac{\\partial \\mathcal{L}}{\\partial w} = \\frac{\\partial \\mathcal{L}}{\\partial a} \\cdot \\frac{\\partial a}{\\partial z} \\cdot \\frac{\\partial z}{\\partial w}\n",
    "  $$\n",
    "  Here:\n",
    "  - \\( L \\): Loss\n",
    "  - \\( w \\): Parameter (weights or biases)\n",
    "  - \\( a \\): Activated output\n",
    "  - \\( z \\): Linear transformation output\n",
    "\n",
    "- **Gradient Descent**:\n",
    "  Updates model parameters to minimize the loss:\n",
    "  $$\n",
    "  w_{\\text{new}} = w_{\\text{old}} - \\eta \\cdot \\frac{\\partial \\mathcal{L}}{\\partial w}\n",
    "  $$\n",
    "   where \\( n \\) is the learning rate.\n"
   ]
  },
  {
   "cell_type": "code",
   "execution_count": null,
   "metadata": {},
   "outputs": [],
   "source": [
    "def train_test(learning_rate, batch_size, activation_fn):\n",
    "    model = CNN(activation_fn=activation_fn)\n",
    "    model.to(device)  # Transfer the model to the GPU for higher process speed.\n",
    "    criterion = nn.BCELoss()  # Binary cross-entropy loss\n",
    "    optimizer = optim.Adam(model.parameters(), lr=learning_rate)\n",
    "    \n",
    "    train_loader_instance = train_loader[batch_size]\n",
    "    test_loader_instance = test_loader[batch_size]\n",
    "\n",
    "    # Training for 10 epochs\n",
    "    for epoch in range(10):  \n",
    "        model.train()\n",
    "        for images, labels in train_loader_instance:\n",
    "            images, labels = images.to(device), labels.to(device)  # Transfer data to the GPU\n",
    "            labels = labels.float().unsqueeze(1) \n",
    "            optimizer.zero_grad() # Reset gradients (residue from previous batch are cleared)\n",
    "            outputs = model(images) # Forward pass\n",
    "            loss = criterion(outputs, labels) # Loss calculation for backpropagation\n",
    "            loss.backward() # Backpropagation\n",
    "            optimizer.step() # Updating parameters with using Gradient descent \n",
    "    \n",
    "    # Testing the model \n",
    "    model.eval()\n",
    "    all_labels = []\n",
    "    all_predictions = []\n",
    "\n",
    "    with torch.no_grad():\n",
    "        for images, labels in test_loader_instance:\n",
    "            images, labels = images.to(device), labels.to(device)  # Transfer data to the GPU\n",
    "            labels = labels.float().unsqueeze(1)  # Reshape labels to [batch_size, 1]\n",
    "            outputs = model(images)\n",
    "            outputs = outputs.squeeze(1)  # Flatten [batch_size, 1] to [batch_size]\n",
    "            predictions = (outputs > 0.5).float()  # Threshold for sigmoid output\n",
    "            all_labels.extend(labels.cpu().numpy())  # Transfer data back to CPU and convert to numpy array\n",
    "            all_predictions.extend(predictions.cpu().numpy())  # Transfer data back to CPU and convert to numpy array\n",
    "\n",
    "    # Calculate performance metrics\n",
    "    accuracy = accuracy_score(all_labels, all_predictions)\n",
    "    precision = precision_score(all_labels, all_predictions, zero_division=0)\n",
    "    recall = recall_score(all_labels, all_predictions, zero_division=0)\n",
    "    f1 = f1_score(all_labels, all_predictions, zero_division=0)\n",
    "\n",
    "    # Calculate confusion matrix\n",
    "    cm = confusion_matrix(all_labels, all_predictions)\n",
    "\n",
    "    # Print the results\n",
    "    print(f\"Results for LR: {learning_rate}, Batch size: {batch_size}, Activation function: {activation_fn.__class__.__name__}\")\n",
    "    print(f\"Accuracy: {accuracy:.4f}\")\n",
    "    print(f\"Precision: {precision:.4f}\")\n",
    "    print(f\"Recall: {recall:.4f}\")\n",
    "    print(f\"F1 Score: {f1:.4f}\")\n",
    "    print(\"Confusion Matrix:\")\n",
    "    print(cm)\n"
   ]
  },
  {
   "cell_type": "code",
   "execution_count": null,
   "metadata": {},
   "outputs": [
    {
     "name": "stdout",
     "output_type": "stream",
     "text": [
      "Results for LR: 0.005, Batch size: 16, Activation function: ReLU\n",
      "Accuracy: 0.4794\n",
      "Precision: 0.4794\n",
      "Recall: 1.0000\n",
      "F1 Score: 0.6481\n",
      "Confusion Matrix:\n",
      "[[   0 1000]\n",
      " [   0  921]]\n",
      "Results for LR: 0.005, Batch size: 16, Activation function: Sigmoid\n",
      "Accuracy: 0.4794\n",
      "Precision: 0.4794\n",
      "Recall: 1.0000\n",
      "F1 Score: 0.6481\n",
      "Confusion Matrix:\n",
      "[[   0 1000]\n",
      " [   0  921]]\n",
      "Results for LR: 0.005, Batch size: 32, Activation function: ReLU\n",
      "Accuracy: 0.4794\n",
      "Precision: 0.4794\n",
      "Recall: 1.0000\n",
      "F1 Score: 0.6481\n",
      "Confusion Matrix:\n",
      "[[   0 1000]\n",
      " [   0  921]]\n",
      "Results for LR: 0.005, Batch size: 32, Activation function: Sigmoid\n",
      "Accuracy: 0.5206\n",
      "Precision: 0.0000\n",
      "Recall: 0.0000\n",
      "F1 Score: 0.0000\n",
      "Confusion Matrix:\n",
      "[[1000    0]\n",
      " [ 921    0]]\n",
      "Results for LR: 0.02, Batch size: 16, Activation function: ReLU\n",
      "Accuracy: 0.4794\n",
      "Precision: 0.4794\n",
      "Recall: 1.0000\n",
      "F1 Score: 0.6481\n",
      "Confusion Matrix:\n",
      "[[   0 1000]\n",
      " [   0  921]]\n",
      "Results for LR: 0.02, Batch size: 16, Activation function: Sigmoid\n",
      "Accuracy: 0.4794\n",
      "Precision: 0.4794\n",
      "Recall: 1.0000\n",
      "F1 Score: 0.6481\n",
      "Confusion Matrix:\n",
      "[[   0 1000]\n",
      " [   0  921]]\n",
      "Results for LR: 0.02, Batch size: 32, Activation function: ReLU\n",
      "Accuracy: 0.5206\n",
      "Precision: 0.0000\n",
      "Recall: 0.0000\n",
      "F1 Score: 0.0000\n",
      "Confusion Matrix:\n",
      "[[1000    0]\n",
      " [ 921    0]]\n",
      "Results for LR: 0.02, Batch size: 32, Activation function: Sigmoid\n",
      "Accuracy: 0.5206\n",
      "Precision: 0.0000\n",
      "Recall: 0.0000\n",
      "F1 Score: 0.0000\n",
      "Confusion Matrix:\n",
      "[[1000    0]\n",
      " [ 921    0]]\n"
     ]
    }
   ],
   "source": [
    "# \n",
    "learning_rates = [0.005, 0.02]  # Learning rates to try\n",
    "activation_functions = [nn.ReLU(), nn.Sigmoid()]  # Activation functions to try\n",
    "for lr in learning_rates:  # Iterate over all posibilities. (8 experiment)\n",
    "    for batch_size in batch_sizes:\n",
    "        for activation_fn in activation_functions:\n",
    "            train_test(lr, batch_size, activation_fn)"
   ]
  },
  {
   "cell_type": "code",
   "execution_count": 3,
   "metadata": {},
   "outputs": [],
   "source": [
    "# For GPU usage\n",
    "device = torch.device(\"cuda\" if torch.cuda.is_available() else \"cpu\")"
   ]
  },
  {
   "cell_type": "markdown",
   "metadata": {},
   "source": [
    "## **Multi-Layer Perceptron (MLP) Implementation**\n",
    "\n"
   ]
  },
  {
   "cell_type": "markdown",
   "metadata": {},
   "source": [
    "### **Model Architecture:**\n",
    "- Input Layer: Flattened images of size `50x50` or `300x300`.\n",
    "- Hidden Layers:\n",
    "  - First Layer: 128 neurons\n",
    "  - Second Layer: 64 neurons\n",
    "- Output Layer: 1 neuron (for binary classification)\n",
    "- Activation Functions: ReLU and Sigmoid."
   ]
  },
  {
   "cell_type": "markdown",
   "metadata": {},
   "source": [
    "### **Why This Architecture?**\n",
    "- The two hidden layers provide sufficient capacity to model complex relationships in the data.\n",
    "- Binary classification requires a single output neuron with a Sigmoid activation function for probability outputs.\n"
   ]
  },
  {
   "cell_type": "markdown",
   "metadata": {},
   "source": [
    "### **Experiments Conducted:**\n",
    "- A total of **8 experiments** were conducted with combinations of:\n",
    "  - Input size (`50x50`, `300x300`)\n",
    "  - Learning rate (`0.005`, `0.02`)\n",
    "  - Activation function (`ReLU`, `Sigmoid`)\n"
   ]
  },
  {
   "cell_type": "markdown",
   "metadata": {},
   "source": [
    "Defining a class for creating our MultiLayer Neural Network model."
   ]
  },
  {
   "cell_type": "markdown",
   "metadata": {},
   "source": [
    "### Fully Connected Layers in MLP\n",
    "\n",
    "- **Fully Connected Layer**:\n",
    "  Performs a linear transformation followed by an activation function:\n",
    "  \\[\n",
    "  z = Wx + b, a = activation(z)\n",
    "  \\]\n",
    "  Here:\n",
    "  - \\( W \\): Weights matrix\n",
    "  - \\( x \\): Input vector\n",
    "  - \\( b \\): Bias vector\n",
    "  - \\( a \\): Activated output\n",
    "\n",
    "- **Activation Functions**:\n",
    "  - **ReLU**: Replaces negative values with zero. Mathematically:\n",
    "    \\[\n",
    "    ReLU(x)=max(0,x)\n",
    "    \\]\n",
    "  - **Sigmoid**: Maps values to the range \\([0, 1]\\). \n",
    "    \\[\n",
    "    \\]\n",
    "    Often used for binary classification to represent probabilities.\n",
    "\n",
    "    Mathematically:\n"
   ]
  },
  {
   "attachments": {
    "image.png": {
     "image/png": "[encoded data removed]"
    }
   },
   "cell_type": "markdown",
   "metadata": {},
   "source": [
    "![image.png](attachment:image.png)"
   ]
  },
  {
   "cell_type": "code",
   "execution_count": 4,
   "metadata": {},
   "outputs": [],
   "source": [
    "# MLP class with 3 fully connected layers\n",
    "class MultiLayerNN(nn.Module):\n",
    "    def __init__(self, input_size, activation_fn=nn.ReLU()):\n",
    "        super(MultiLayerNN, self).__init__()\n",
    "        self.fc1 = nn.Linear(input_size, 128)  # Input size -> 128 neurons\n",
    "        self.fc2 = nn.Linear(128, 64)          # 128 neurons -> 64 neurons\n",
    "        self.fc3 = nn.Linear(64, 1)            # 64 neurons -> 1 output neuron\n",
    "        self.activation = activation_fn\n",
    "        self.sigmoid = nn.Sigmoid()\n",
    "\n",
    "    def forward(self, x):\n",
    "        x = self.activation(self.fc1(x))\n",
    "        x = self.activation(self.fc2(x))\n",
    "        x = self.sigmoid(self.fc3(x))  # Output is a sigmoid function for binary classification\n",
    "        return x"
   ]
  },
  {
   "cell_type": "markdown",
   "metadata": {},
   "source": [
    "### Backpropagation and Gradient Descent\n",
    "\n",
    "- **Backpropagation**:\n",
    "  Computes gradients of the loss with respect to model parameters using the chain rule of derivatives:\n",
    "  $$\n",
    "  \\frac{\\partial \\mathcal{L}}{\\partial w} = \\frac{\\partial \\mathcal{L}}{\\partial a} \\cdot \\frac{\\partial a}{\\partial z} \\cdot \\frac{\\partial z}{\\partial w}\n",
    "  $$\n",
    "  Here:\n",
    "  - \\( L \\): Loss\n",
    "  - \\( w \\): Parameter (weights or biases)\n",
    "  - \\( a \\): Activated output\n",
    "  - \\( z \\): Linear transformation output\n",
    "\n",
    "- **Gradient Descent**:\n",
    "  Updates model parameters to minimize the loss:\n",
    "  $$\n",
    "  w_{\\text{new}} = w_{\\text{old}} - \\eta \\cdot \\frac{\\partial \\mathcal{L}}{\\partial w}\n",
    "  $$\n",
    "   where \\( n \\) is the learning rate.\n"
   ]
  },
  {
   "cell_type": "markdown",
   "metadata": {},
   "source": [
    "Will use the same type of code for training as CNN(When I wanted to create the train part, I copy pasted the code cell from CNN part and then made changes.)"
   ]
  },
  {
   "cell_type": "code",
   "execution_count": null,
   "metadata": {},
   "outputs": [],
   "source": [
    "# Training Function\n",
    "def train_model(model, train_loader, test_loader, lr, epochs):\n",
    "    criterion = nn.BCELoss()  # Binary Cross-Entropy Loss\n",
    "    optimizer = optim.Adam(model.parameters(), lr=lr)\n",
    "\n",
    "    for epoch in range(epochs):\n",
    "        model.train()\n",
    "        for images, labels in train_loader:\n",
    "            # Flatten the images\n",
    "            images = images.view(images.size(0), -1)  # (batch_size, input_size)\n",
    "            images, labels = images.to(device), labels.to(device).float().unsqueeze(1)  # Transfer to GPU\n",
    " \n",
    "            optimizer.zero_grad() # Reset gradients (residue from previous batch are cleared)\n",
    "            outputs = model(images) # Forward pass\n",
    "            loss = criterion(outputs, labels) # Loss calculation for backpropagation\n",
    "            loss.backward() # Backpropagation\n",
    "            optimizer.step() # Updating parameters with using Gradient descent \n",
    "\n",
    "    # Validation after the last epoch\n",
    "    model.eval()\n",
    "    with torch.no_grad():\n",
    "        all_labels = []\n",
    "        all_predictions = []\n",
    "        for images, labels in test_loader:\n",
    "            images = images.view(images.size(0), -1)\n",
    "            images, labels = images.to(device), labels.to(device).float().unsqueeze(1)\n",
    "            outputs = model(images)\n",
    "            predictions = (outputs > 0.5).float()  # Convert predictions to class labels\n",
    "            all_labels.extend(labels.cpu().numpy())\n",
    "            all_predictions.extend(predictions.cpu().numpy())\n",
    "\n",
    "        # Calculate performance metrics\n",
    "        accuracy = accuracy_score(all_labels, all_predictions)\n",
    "        precision = precision_score(all_labels, all_predictions, zero_division=0)\n",
    "        recall = recall_score(all_labels, all_predictions, zero_division=0)\n",
    "        f1 = f1_score(all_labels, all_predictions, zero_division=0)\n",
    "\n",
    "    # Calculate confusion matrix\n",
    "    cm = confusion_matrix(all_labels, all_predictions)\n",
    "\n",
    "    # Print the results\n",
    "    print(f\"Final Results (Learning Rate: {lr}, Activation: {model.activation.__class__.__name__})\")\n",
    "    print(f\"Accuracy: {accuracy:.4f}\")\n",
    "    print(f\"Precision: {precision:.4f}\")\n",
    "    print(f\"Recall: {recall:.4f}\")\n",
    "    print(f\"F1 Score: {f1:.4f}\")\n",
    "    print(\"Confusion Matrix:\")\n",
    "    print(cm)\n"
   ]
  },
  {
   "cell_type": "markdown",
   "metadata": {},
   "source": [
    "Defining the parameters to try. Will use this part at itearating over all posibilities to try 8 different\\\n",
    "experiments(2 Input Size X 2 Learning Rate X 2 Activation Function = 8 experiment)"
   ]
  },
  {
   "cell_type": "code",
   "execution_count": 6,
   "metadata": {},
   "outputs": [],
   "source": [
    "# Parameters\n",
    "input_sizes = [50 * 50 * 3, 300 * 300 * 3]  # 50x50 and 300x300 input sizes\n",
    "learning_rates = [0.005, 0.02]\n",
    "batch_size = 16\n",
    "activation_functions = [nn.ReLU(), nn.Sigmoid()]\n",
    "epochs = 10  # Epoch number"
   ]
  },
  {
   "cell_type": "markdown",
   "metadata": {},
   "source": [
    "Transforming the images as needed shapes(size, normalization etc.)"
   ]
  },
  {
   "cell_type": "code",
   "execution_count": 7,
   "metadata": {},
   "outputs": [],
   "source": [
    "# For transform process. (for both input sizes)\n",
    "transform_small = transforms.Compose([\n",
    "    transforms.Resize((50, 50)),\n",
    "    transforms.ToTensor(),\n",
    "    transforms.Normalize((0.5,), (0.5,))\n",
    "])\n",
    "\n",
    "transform_large = transforms.Compose([\n",
    "    transforms.Resize((300, 300)),\n",
    "    transforms.ToTensor(),\n",
    "    transforms.Normalize((0.5,), (0.5,))\n",
    "])"
   ]
  },
  {
   "cell_type": "markdown",
   "metadata": {},
   "source": [
    "Loading the data"
   ]
  },
  {
   "cell_type": "code",
   "execution_count": 8,
   "metadata": {},
   "outputs": [],
   "source": [
    "# Loading the data\n",
    "train_dataset_small = datasets.ImageFolder(root=\"311PA3_melanoma_dataset/train\", transform=transform_small)\n",
    "test_dataset_small = datasets.ImageFolder(root=\"311PA3_melanoma_dataset/test\", transform=transform_small)\n",
    "\n",
    "train_dataset_large = datasets.ImageFolder(root=\"311PA3_melanoma_dataset/train\", transform=transform_large)\n",
    "test_dataset_large = datasets.ImageFolder(root=\"311PA3_melanoma_dataset/test\", transform=transform_large)\n"
   ]
  },
  {
   "cell_type": "markdown",
   "metadata": {},
   "source": [
    "Defining the loaders."
   ]
  },
  {
   "cell_type": "code",
   "execution_count": 9,
   "metadata": {},
   "outputs": [],
   "source": [
    "# Defining the loaders.\n",
    "train_loaders = {\n",
    "    50 * 50 * 3: DataLoader(train_dataset_small, batch_size=batch_size, shuffle=True),\n",
    "    300 * 300 * 3: DataLoader(train_dataset_large, batch_size=batch_size, shuffle=True)\n",
    "}\n",
    "test_loaders = {\n",
    "    50 * 50 * 3: DataLoader(test_dataset_small, batch_size=batch_size, shuffle=False),\n",
    "    300 * 300 * 3: DataLoader(test_dataset_large, batch_size=batch_size, shuffle=False)\n",
    "}"
   ]
  },
  {
   "cell_type": "markdown",
   "metadata": {},
   "source": [
    "\n",
    "<div style=\"font-size: 20px; color: white;\">\n",
    "    <ul>\n",
    "        Training and testing the output for all combinations.\n",
    "</div>\n"
   ]
  },
  {
   "cell_type": "markdown",
   "metadata": {},
   "source": [
    "\n",
    "<div style=\"font-size: 20px; color: white;\">\n",
    "    <ul>\n",
    "        image_size = int((input_size / 3) ** 0.5) <br>\n",
    "        Because, consider our image size 50x50x3; to get this as 50(we want to print it,) first divide it by 3 and you now have 50x50 size, then getting the square root of it will five your result as 50.\n",
    "</div>"
   ]
  },
  {
   "cell_type": "code",
   "execution_count": 10,
   "metadata": {},
   "outputs": [
    {
     "name": "stdout",
     "output_type": "stream",
     "text": [
      "\n",
      "Training with Input Size: 50x50, Learning Rate: 0.005, Activation: ReLU\n",
      "Final Results (Learning Rate: 0.005, Activation: ReLU)\n",
      "Accuracy: 0.9001\n",
      "Precision: 0.9137\n",
      "Recall: 0.8740\n",
      "F1 Score: 0.8935\n",
      "Confusion Matrix:\n",
      "[[924  76]\n",
      " [116 805]]\n",
      "\n",
      "Training with Input Size: 50x50, Learning Rate: 0.005, Activation: Sigmoid\n",
      "Final Results (Learning Rate: 0.005, Activation: Sigmoid)\n",
      "Accuracy: 0.8522\n",
      "Precision: 0.9357\n",
      "Recall: 0.7427\n",
      "F1 Score: 0.8281\n",
      "Confusion Matrix:\n",
      "[[953  47]\n",
      " [237 684]]\n",
      "\n",
      "Training with Input Size: 50x50, Learning Rate: 0.02, Activation: ReLU\n",
      "Final Results (Learning Rate: 0.02, Activation: ReLU)\n",
      "Accuracy: 0.4794\n",
      "Precision: 0.4794\n",
      "Recall: 1.0000\n",
      "F1 Score: 0.6481\n",
      "Confusion Matrix:\n",
      "[[   0 1000]\n",
      " [   0  921]]\n",
      "\n",
      "Training with Input Size: 50x50, Learning Rate: 0.02, Activation: Sigmoid\n",
      "Final Results (Learning Rate: 0.02, Activation: Sigmoid)\n",
      "Accuracy: 0.8090\n",
      "Precision: 0.8968\n",
      "Recall: 0.6797\n",
      "F1 Score: 0.7733\n",
      "Confusion Matrix:\n",
      "[[928  72]\n",
      " [295 626]]\n",
      "\n",
      "Training with Input Size: 300x300, Learning Rate: 0.005, Activation: ReLU\n",
      "Final Results (Learning Rate: 0.005, Activation: ReLU)\n",
      "Accuracy: 0.4794\n",
      "Precision: 0.4794\n",
      "Recall: 1.0000\n",
      "F1 Score: 0.6481\n",
      "Confusion Matrix:\n",
      "[[   0 1000]\n",
      " [   0  921]]\n",
      "\n",
      "Training with Input Size: 300x300, Learning Rate: 0.005, Activation: Sigmoid\n",
      "Final Results (Learning Rate: 0.005, Activation: Sigmoid)\n",
      "Accuracy: 0.8011\n",
      "Precision: 0.8801\n",
      "Recall: 0.6775\n",
      "F1 Score: 0.7656\n",
      "Confusion Matrix:\n",
      "[[915  85]\n",
      " [297 624]]\n",
      "\n",
      "Training with Input Size: 300x300, Learning Rate: 0.02, Activation: ReLU\n",
      "Final Results (Learning Rate: 0.02, Activation: ReLU)\n",
      "Accuracy: 0.5206\n",
      "Precision: 0.0000\n",
      "Recall: 0.0000\n",
      "F1 Score: 0.0000\n",
      "Confusion Matrix:\n",
      "[[1000    0]\n",
      " [ 921    0]]\n",
      "\n",
      "Training with Input Size: 300x300, Learning Rate: 0.02, Activation: Sigmoid\n",
      "Final Results (Learning Rate: 0.02, Activation: Sigmoid)\n",
      "Accuracy: 0.7631\n",
      "Precision: 0.9396\n",
      "Recall: 0.5407\n",
      "F1 Score: 0.6864\n",
      "Confusion Matrix:\n",
      "[[968  32]\n",
      " [423 498]]\n"
     ]
    }
   ],
   "source": [
    "# Training and testing the output for all combinations.\n",
    "for input_size in input_sizes:\n",
    "    for lr in learning_rates:\n",
    "        for activation_fn in activation_functions:\n",
    "            image_size = int((input_size / 3) ** 0.5)\n",
    "            print(f\"\\nTraining with Input Size: {image_size}x{image_size}, Learning Rate: {lr}, Activation: {activation_fn.__class__.__name__}\")\n",
    "            model = MultiLayerNN(input_size=input_size, activation_fn=activation_fn).to(device)\n",
    "            train_loader = train_loaders[input_size]\n",
    "            test_loader = test_loaders[input_size]\n",
    "            train_model(model, train_loader, test_loader, lr=lr, epochs=epochs)"
   ]
  },
  {
   "cell_type": "markdown",
   "metadata": {},
   "source": [
    "\n",
    "<div style=\"font-size: 50px; color: white;\">\n",
    "    <ul>\n",
    "        Evaluating The Results \n",
    "</div>"
   ]
  },
  {
   "cell_type": "markdown",
   "metadata": {},
   "source": [
    "## **Results For CNN (Part 1)**"
   ]
  },
  {
   "cell_type": "markdown",
   "metadata": {},
   "source": [
    "| Input Size | Learning Rate | Batch Size | Activation       | Accuracy | Precision | Recall | F1 Score |\n",
    "|------------|---------------|------------|------------------|----------|-----------|--------|----------|\n",
    "| 300x300    | 0.005         | 16         | ReLU             | 0.4794   | 0.4794    | 1.0000 | 0.6481   |\n",
    "| 300x300    | 0.005         | 16         | Sigmoid          | 0.4794   | 0.4794    | 1.0000 | 0.6481   |\n",
    "| 300x300    | 0.005         | 32         | ReLU             | 0.4794   | 0.4794    | 1.0000 | 0.6481   |\n",
    "| 300x300    | 0.005         | 32         | Sigmoid          | 0.5206   | 0.0000    | 0.0000 | 0.0000   |\n",
    "| 300x300    | 0.02          | 16         | ReLU             | 0.4794   | 0.4794    | 1.0000 | 0.6481   |\n",
    "| 300x300    | 0.02          | 16         | Sigmoid          | 0.4794   | 0.4794    | 1.0000 | 0.6481   |\n",
    "| 300x300    | 0.02          | 32         | ReLU             | 0.5206   | 0.0000    | 0.0000 | 0.0000   |\n",
    "| 300x300    | 0.02          | 32         | Sigmoid          | 0.5206   | 0.0000    | 0.0000 | 0.0000   |\n"
   ]
  },
  {
   "cell_type": "markdown",
   "metadata": {},
   "source": [
    "\n",
    "<div style=\"font-size: 20px; color: white;\">\n",
    "    <ul>\n",
    "        In this part, I got unexpected result because the model classifies all data as benign or malignant. At first, I was worried that I did something wrong but, then I talked my other friends and saw that they are getting similar results too. Also the calculation time for this part took way too long(almost 8 hours). Results were disappointing.\n",
    "</div>        "
   ]
  },
  {
   "cell_type": "markdown",
   "metadata": {},
   "source": [
    "## **Results For MLP (Part 2)**"
   ]
  },
  {
   "cell_type": "markdown",
   "metadata": {},
   "source": [
    "| Input Size | Learning Rate | Batch Size | Activation | Accuracy | Precision | Recall | F1 Score |\n",
    "|------------|---------------|------------|------------|----------|-----------|--------|----------|\n",
    "| 50x50      | 0.005         | 16         | ReLU       | 0.9001   | 0.9137    | 0.8740 | 0.8935   |\n",
    "| 50x50      | 0.005         | 16         | Sigmoid    | 0.8522   | 0.9357    | 0.7427 | 0.8281   |\n",
    "| 50x50      | 0.02          | 16         | ReLU       | 0.4794   | 0.4794    | 1.0000 | 0.6481   |\n",
    "| 50x50      | 0.02          | 16         | Sigmoid    | 0.8090   | 0.8968    | 0.6797 | 0.7733   |\n",
    "| 300x300    | 0.005         | 16         | ReLU       | 0.4794   | 0.4794    | 1.0000 | 0.6481   |\n",
    "| 300x300    | 0.005         | 16         | Sigmoid    | 0.8011   | 0.8801    | 0.6775 | 0.7656   |\n",
    "| 300x300    | 0.02          | 16         | ReLU       | 0.5206   | 0.0000    | 0.0000 | 0.0000   |\n",
    "| 300x300    | 0.02          | 16         | Sigmoid    | 0.7631   | 0.9396    | 0.5407 | 0.6864   |\n"
   ]
  },
  {
   "cell_type": "markdown",
   "metadata": {},
   "source": [
    "\n",
    "<div style=\"font-size: 20px; color: white;\">\n",
    "    <ul>\n",
    "        <li>In this part, I got the expected results although we have some experiments that I got the same problem as CNN part(50x50,0.02, 16,ReLU). \n",
    "        <li> If we want to build a image classification model for predicting an skin lesion image, we can say that we should use the Input size: 50x50, LR: 0.005, Batch Size: 16, ReLU model with accuracy 90% because of it is more useful than other combinations and other models.\n",
    "        <li> Also the training time for this part is really fast compared to CNN(almost 14 minutes.)\n",
    "</div>        "
   ]
  }
 ],
 "metadata": {
  "kernelspec": {
   "display_name": "Python 3",
   "language": "python",
   "name": "python3"
  },
  "language_info": {
   "codemirror_mode": {
    "name": "ipython",
    "version": 3
   },
   "file_extension": ".py",
   "mimetype": "text/x-python",
   "name": "python",
   "nbconvert_exporter": "python",
   "pygments_lexer": "ipython3",
   "version": "3.10.11"
  }
 },
 "nbformat": 4,
 "nbformat_minor": 2
}
